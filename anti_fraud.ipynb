{
 "cells": [
  {
   "cell_type": "code",
   "execution_count": 2,
   "id": "d7da3020",
   "metadata": {},
   "outputs": [],
   "source": [
    "import pandas as pd\n",
    "import numpy as np\n",
    "import matplotlib.pyplot as plt\n",
    "import seaborn as sns"
   ]
  },
  {
   "cell_type": "code",
   "execution_count": 3,
   "id": "95791a01",
   "metadata": {},
   "outputs": [],
   "source": [
    "df = pd.read_csv('antifraud_analyst_test.csv')\n",
    "df.rename(columns = {'Unnamed: 0':'index'}, inplace = True)\n",
    "df = df.sort_values('index')\n",
    "df = df.drop_duplicates().reset_index(drop=True)"
   ]
  },
  {
   "cell_type": "code",
   "execution_count": 4,
   "id": "fafa006d",
   "metadata": {
    "scrolled": true
   },
   "outputs": [
    {
     "data": {
      "text/html": [
       "<div>\n",
       "<style scoped>\n",
       "    .dataframe tbody tr th:only-of-type {\n",
       "        vertical-align: middle;\n",
       "    }\n",
       "\n",
       "    .dataframe tbody tr th {\n",
       "        vertical-align: top;\n",
       "    }\n",
       "\n",
       "    .dataframe thead th {\n",
       "        text-align: right;\n",
       "    }\n",
       "</style>\n",
       "<table border=\"1\" class=\"dataframe\">\n",
       "  <thead>\n",
       "    <tr style=\"text-align: right;\">\n",
       "      <th></th>\n",
       "      <th>index</th>\n",
       "      <th>user_id</th>\n",
       "      <th>ip_address_int</th>\n",
       "      <th>click_timestamp</th>\n",
       "      <th>source</th>\n",
       "      <th>sub_source</th>\n",
       "      <th>sub_source_2</th>\n",
       "      <th>sub_source_3</th>\n",
       "      <th>referer</th>\n",
       "      <th>fingerprint</th>\n",
       "      <th>ua</th>\n",
       "    </tr>\n",
       "  </thead>\n",
       "  <tbody>\n",
       "    <tr>\n",
       "      <th>0</th>\n",
       "      <td>0</td>\n",
       "      <td>4391ca69eb0e93c6752125f785fa8ef6</td>\n",
       "      <td>772930238</td>\n",
       "      <td>1635755242</td>\n",
       "      <td>250820642ba26fc02d946cf504440fdf</td>\n",
       "      <td>fba462c8894f1111b7efb1c67a094cf3</td>\n",
       "      <td>7791ccbd2270c2d91531262715bad131</td>\n",
       "      <td>91cc61b3a85e20194659c63d83a68cec</td>\n",
       "      <td>fba462c8894f1111b7efb1c67a094cf3</td>\n",
       "      <td>66b6125631b826ac0f3b4caf308b25ad</td>\n",
       "      <td>axios/0.23.0</td>\n",
       "    </tr>\n",
       "    <tr>\n",
       "      <th>1</th>\n",
       "      <td>0</td>\n",
       "      <td>03e014b6b59279eeda2d96a5a3653a2f</td>\n",
       "      <td>1442387889</td>\n",
       "      <td>1635774448</td>\n",
       "      <td>9cbd1454916470e9cefbb56dbb382954</td>\n",
       "      <td>fba462c8894f1111b7efb1c67a094cf3</td>\n",
       "      <td>0ae0c71dc0d7110747b9a13ca44f3f4a</td>\n",
       "      <td>fba462c8894f1111b7efb1c67a094cf3</td>\n",
       "      <td>465d9bf58432d4e1f422b3639caddee8</td>\n",
       "      <td>fba462c8894f1111b7efb1c67a094cf3</td>\n",
       "      <td>NaN</td>\n",
       "    </tr>\n",
       "    <tr>\n",
       "      <th>2</th>\n",
       "      <td>0</td>\n",
       "      <td>08f1608c1ff0c09fe0b425448df9ef6a</td>\n",
       "      <td>1348124303</td>\n",
       "      <td>1635796166</td>\n",
       "      <td>9c0c7bc6240316a7cbb1f4c1bcd549d6</td>\n",
       "      <td>fba462c8894f1111b7efb1c67a094cf3</td>\n",
       "      <td>d53eb50aa9e6642204fe1f82a4df29eb</td>\n",
       "      <td>fba462c8894f1111b7efb1c67a094cf3</td>\n",
       "      <td>281228a44f8be3867df599a8f9b93efb</td>\n",
       "      <td>164fa9e24dc44107406e3e3e0bc003bf</td>\n",
       "      <td>Mozilla/5.0 (X11; Linux x86_64) AppleWebKit/53...</td>\n",
       "    </tr>\n",
       "  </tbody>\n",
       "</table>\n",
       "</div>"
      ],
      "text/plain": [
       "   index                           user_id  ip_address_int  click_timestamp  \\\n",
       "0      0  4391ca69eb0e93c6752125f785fa8ef6       772930238       1635755242   \n",
       "1      0  03e014b6b59279eeda2d96a5a3653a2f      1442387889       1635774448   \n",
       "2      0  08f1608c1ff0c09fe0b425448df9ef6a      1348124303       1635796166   \n",
       "\n",
       "                             source                        sub_source  \\\n",
       "0  250820642ba26fc02d946cf504440fdf  fba462c8894f1111b7efb1c67a094cf3   \n",
       "1  9cbd1454916470e9cefbb56dbb382954  fba462c8894f1111b7efb1c67a094cf3   \n",
       "2  9c0c7bc6240316a7cbb1f4c1bcd549d6  fba462c8894f1111b7efb1c67a094cf3   \n",
       "\n",
       "                       sub_source_2                      sub_source_3  \\\n",
       "0  7791ccbd2270c2d91531262715bad131  91cc61b3a85e20194659c63d83a68cec   \n",
       "1  0ae0c71dc0d7110747b9a13ca44f3f4a  fba462c8894f1111b7efb1c67a094cf3   \n",
       "2  d53eb50aa9e6642204fe1f82a4df29eb  fba462c8894f1111b7efb1c67a094cf3   \n",
       "\n",
       "                            referer                       fingerprint  \\\n",
       "0  fba462c8894f1111b7efb1c67a094cf3  66b6125631b826ac0f3b4caf308b25ad   \n",
       "1  465d9bf58432d4e1f422b3639caddee8  fba462c8894f1111b7efb1c67a094cf3   \n",
       "2  281228a44f8be3867df599a8f9b93efb  164fa9e24dc44107406e3e3e0bc003bf   \n",
       "\n",
       "                                                  ua  \n",
       "0                                       axios/0.23.0  \n",
       "1                                                NaN  \n",
       "2  Mozilla/5.0 (X11; Linux x86_64) AppleWebKit/53...  "
      ]
     },
     "execution_count": 4,
     "metadata": {},
     "output_type": "execute_result"
    }
   ],
   "source": [
    "df.head(3)"
   ]
  },
  {
   "cell_type": "code",
   "execution_count": 5,
   "id": "a8c04757",
   "metadata": {
    "scrolled": true
   },
   "outputs": [
    {
     "data": {
      "text/plain": [
       "(8633, 11)"
      ]
     },
     "execution_count": 5,
     "metadata": {},
     "output_type": "execute_result"
    }
   ],
   "source": [
    "df.shape # мы увидим информацию о размерности нашего датафрейма "
   ]
  },
  {
   "cell_type": "code",
   "execution_count": 6,
   "id": "6cedcafb",
   "metadata": {},
   "outputs": [
    {
     "name": "stdout",
     "output_type": "stream",
     "text": [
      "<class 'pandas.core.frame.DataFrame'>\n",
      "RangeIndex: 8633 entries, 0 to 8632\n",
      "Data columns (total 11 columns):\n",
      " #   Column           Non-Null Count  Dtype \n",
      "---  ------           --------------  ----- \n",
      " 0   index            8633 non-null   int64 \n",
      " 1   user_id          8633 non-null   object\n",
      " 2   ip_address_int   8633 non-null   int64 \n",
      " 3   click_timestamp  8633 non-null   int64 \n",
      " 4   source           8633 non-null   object\n",
      " 5   sub_source       8633 non-null   object\n",
      " 6   sub_source_2     8633 non-null   object\n",
      " 7   sub_source_3     8633 non-null   object\n",
      " 8   referer          8633 non-null   object\n",
      " 9   fingerprint      8633 non-null   object\n",
      " 10  ua               3739 non-null   object\n",
      "dtypes: int64(3), object(8)\n",
      "memory usage: 742.0+ KB\n"
     ]
    }
   ],
   "source": [
    "df.info() # покажет информацию о размерности данных \n",
    "          # описание индекса, количество not-a-number элементов "
   ]
  },
  {
   "cell_type": "code",
   "execution_count": 7,
   "id": "da029e85",
   "metadata": {},
   "outputs": [
    {
     "data": {
      "text/plain": [
       "index              5215\n",
       "user_id            7422\n",
       "ip_address_int     5171\n",
       "click_timestamp    5061\n",
       "source              434\n",
       "sub_source            3\n",
       "sub_source_2        494\n",
       "sub_source_3          9\n",
       "referer             193\n",
       "fingerprint         740\n",
       "ua                  337\n",
       "dtype: int64"
      ]
     },
     "execution_count": 7,
     "metadata": {},
     "output_type": "execute_result"
    }
   ],
   "source": [
    "df.nunique() # количество уникальных значений для каждого столбца"
   ]
  },
  {
   "cell_type": "markdown",
   "id": "7a931729",
   "metadata": {},
   "source": [
    "Так как датасет анонимизированный, нужно как-то понять, что означают данные. Воспользуемся гуглом и вот, что получаем:\n",
    "\n",
    "***Source***: каждая ссылка на веб-сайт имеет происхождение или источник. Возможные источники включают: “google” (название поисковой системы), “facebook.com ” (название ссылающегося сайта), “spring_newsletter” (название одной из ваших информационных рассылок) и “direct” (пользователи, которые ввели ваш URL-адрес непосредственно в свой браузер или которые добавили ваш сайт в закладки).\n",
    "\n",
    "***Sub-sources***:  это более детальный взгляд на трафик, который помогает вам разбивать исходные данные. По умолчанию весь трафик классифицируется с источником и подисточником. Например, дополнительные источники могут помочь вам различать трафик, поступающий из разных социальных сетей.\n",
    "\n",
    "***refer***: url\n",
    "\n",
    "***fingerprint***: это метод, используемый рекламодателями для идентификации людей, которые взаимодействовали с их рекламой. Он работает с использованием общедоступных атрибутов для создания “отпечатка пальца” пользователя. fingerprint может включать тип устройства, местоположение пользователя и другую информацию, относящуюся к рекламодателям.\n",
    "В контексте веб-аналитики fingerprint устройств используются для точной идентификации уникальных (т. е. возвращающихся) посетителей и составления отчетов об этом. Рекламодатели и поставщики AdTech также используют fingerprint устройств для идентификации и отслеживания пользователей в Интернете, что позволяет им создавать профили пользователей и настраивать на них персонализированную рекламу.\n",
    "\n",
    "***ua***: user agent, for exp: \n",
    "\n",
    "***Apple iPhone XR (Safari)***\n",
    "Mozilla/5.0 (iPhone; CPU iPhone OS 12_0 like Mac OS X) AppleWebKit/605.1.15 (KHTML, like Gecko) Version/12.0 Mobile/15E148 Safari/604.1\n"
   ]
  },
  {
   "cell_type": "markdown",
   "id": "cc6169d4",
   "metadata": {},
   "source": [
    "Чтобы искать аномалии в данных, нужно понимать предметную область, а именно как можно фродить в интернет-рекламе, поэтому именно с этого началась работа.\n",
    "\n",
    "Вот на что стоит обратить внимание:\n",
    "* Признак группировки объявлений — несколько кликов по разной рекламе сообщаются с одной и той же меткой времени для одного места размещения;\n",
    "* Высокая активность с одного IP-адреса;\n",
    "* Прямые заходы на внутренние страницы: обычные пользователи очень редко заходят на сайт по URL;\n",
    "* Высокая активность пользователей в ночное время;\n",
    "* Накрутка сеансов с помощью Proxy-сервера."
   ]
  },
  {
   "cell_type": "markdown",
   "id": "318d2250",
   "metadata": {},
   "source": [
    "Что будем проверять:\n",
    "\n",
    "    - подозрительные агенты(headless/bot) ua\n",
    "    - очень активные пользователи (высокая активность с одного IP-адреса) ip_address_int\n",
    "    - источник совпадает с ссылкой (обычные пользователи очень редко заходят на сайт по URL) sources & referer\n",
    "    - мало новых пользователей (то есть ходят одни и те же) fingerprint\n",
    "    - анализ распределения трафика с источников по времени (здесь можно было бы выявлять суточные аномальные активности, то есть видеть закономерности в зависимости от времени дня, искать периодичность, но тк реальное время скрыто, будем обращать внимание на количество запросов в один момент времени) click_timestamp & sources\n",
    "    \n",
    "В результате получится размеченный датасет (T/F: аномалия/ не аномалия), разметка осуществляется на основе вышеперечисленных проверок"
   ]
  },
  {
   "cell_type": "code",
   "execution_count": 8,
   "id": "bf67981e",
   "metadata": {},
   "outputs": [],
   "source": [
    "# добавляем метку, по дефолту false\n",
    "df['flag'] = False"
   ]
  },
  {
   "cell_type": "code",
   "execution_count": 9,
   "id": "c5459afe",
   "metadata": {},
   "outputs": [],
   "source": [
    "# (1) подозрительные агенты(headless/bot)\n",
    "df.loc[df.ua.str.contains(\"Bot\", na=False)|df.ua.str.contains(\"Headless\", na=False), 'flag'] = True"
   ]
  },
  {
   "cell_type": "code",
   "execution_count": 10,
   "id": "7977edca",
   "metadata": {},
   "outputs": [
    {
     "data": {
      "text/plain": [
       "0    1\n",
       "dtype: int64"
      ]
     },
     "execution_count": 10,
     "metadata": {},
     "output_type": "execute_result"
    }
   ],
   "source": [
    "df.groupby(['ip_address_int']).size().mode()\n",
    "# смотрим моду, потому что хочется понять какое количество превалирует"
   ]
  },
  {
   "cell_type": "code",
   "execution_count": 11,
   "id": "7f77c250",
   "metadata": {},
   "outputs": [
    {
     "data": {
      "text/plain": [
       "<AxesSubplot:xlabel='ip_address_int'>"
      ]
     },
     "execution_count": 11,
     "metadata": {},
     "output_type": "execute_result"
    },
    {
     "data": {
      "image/png": "[encoded data removed]",
      "text/plain": [
       "<Figure size 432x288 with 1 Axes>"
      ]
     },
     "metadata": {
      "needs_background": "light"
     },
     "output_type": "display_data"
    }
   ],
   "source": [
    "df.groupby(['ip_address_int']).size().plot()\n",
    "# на графике видны скачки, хотя их быть не должно"
   ]
  },
  {
   "cell_type": "code",
   "execution_count": 12,
   "id": "e14c50d3",
   "metadata": {},
   "outputs": [],
   "source": [
    "# очень активные пользователи (высокая активность с одного IP-адреса)\n",
    "ips = df.groupby(['ip_address_int']).size().to_dict()\n",
    "ips = [k for k, v in ips.items() if v > 1]\n",
    "df.loc[df.ip_address_int.isin(ips), 'flag'] = True"
   ]
  },
  {
   "cell_type": "code",
   "execution_count": 13,
   "id": "77649993",
   "metadata": {},
   "outputs": [],
   "source": [
    "# источник совпадает с ссылкой\n",
    "df.loc[(df.source == df.referer) | (df.sub_source == df.referer) | (df.sub_source_2 == df.referer) | (df.sub_source_3 == df.referer), 'flag'] = True"
   ]
  },
  {
   "cell_type": "code",
   "execution_count": 14,
   "id": "9e896c1b",
   "metadata": {},
   "outputs": [
    {
     "data": {
      "text/plain": [
       "0    1\n",
       "dtype: int64"
      ]
     },
     "execution_count": 14,
     "metadata": {},
     "output_type": "execute_result"
    }
   ],
   "source": [
    "# мало новых пользователей, то есть ходят одни и те же\n",
    "# здесь нужно посмотреть на какие источники ходят одни и те же fingerprint\n",
    "df.groupby(['source', 'fingerprint']).size().mode()\n"
   ]
  },
  {
   "cell_type": "code",
   "execution_count": 15,
   "id": "31a0bdbc",
   "metadata": {},
   "outputs": [
    {
     "data": {
      "text/plain": [
       "source                            fingerprint                     \n",
       "250820642ba26fc02d946cf504440fdf  66b6125631b826ac0f3b4caf308b25ad    1567\n",
       "5d1b41825a5dbe6b588ab93c77bb9bc5  66b6125631b826ac0f3b4caf308b25ad    1329\n",
       "1e2d9bfeaa5294cb4c94bd0891c2a993  190b30133a125ecf6d995ca35a3f1df7     389\n",
       "250820642ba26fc02d946cf504440fdf  8306b77e0209cfff259fedf7ed16bc2f     216\n",
       "e565eb7d382e99da8819f554f7b79b73  fba462c8894f1111b7efb1c67a094cf3     199\n",
       "                                                                      ... \n",
       "8b8e744771bdb7b03f9ce9b7a8d65d48  3e80375b350e757e65e83f750ec23f1e       1\n",
       "                                  37e3d1ba705f866a05e276a41e12a6d2       1\n",
       "                                  335d4f282f86e9cd6966e6ce16e7ea4f       1\n",
       "                                  310f38f3ffc4aae4d527ed26ccf8b03a       1\n",
       "ff7cda2f5c1c2aec9734252e884f4c63  561f946eb7471e9733cfb993cb0c7e4f       1\n",
       "Length: 2536, dtype: int64"
      ]
     },
     "execution_count": 15,
     "metadata": {},
     "output_type": "execute_result"
    }
   ],
   "source": [
    "df.groupby(['source', 'fingerprint']).size().sort_values(ascending=False)"
   ]
  },
  {
   "cell_type": "code",
   "execution_count": 16,
   "id": "c51ee3aa",
   "metadata": {},
   "outputs": [],
   "source": [
    "# видно, что к источнику 250820642ba26fc02d946cf504440fdf зачастил 66b6125631b826ac0f3b4caf308b25ad"
   ]
  },
  {
   "cell_type": "code",
   "execution_count": 17,
   "id": "c9043e76",
   "metadata": {},
   "outputs": [],
   "source": [
    "# пометим таким образом данные для всех источников и саб-источников\n",
    "\n",
    "sources = ['source', 'sub_source', 'sub_source_2', 'sub_source_3']\n",
    "for s in sources:\n",
    "    source_fingerprint = df.groupby([s, 'fingerprint']).size().to_dict()\n",
    "    source_fingerprint = [[k[0], k[1]] for k, v in source_fingerprint.items() if v > 1]\n",
    "    df.loc[df[s].isin(source_fingerprint[0]) & df.fingerprint.isin(source_fingerprint[1]), 'flag'] = True"
   ]
  },
  {
   "cell_type": "markdown",
   "id": "6b4e9f9f",
   "metadata": {},
   "source": [
    "Теперь посмотрим распределения трафика с источников по времени\n",
    "подозрительные действия будем искать среди ip_address_int, user_id, fingerprint, так как насколько я понимаю эти значения указывают на конкретного пользователя, а настоящий пользователь в один момент времени не может совершать более одного действия"
   ]
  },
  {
   "cell_type": "code",
   "execution_count": 18,
   "id": "113e8809",
   "metadata": {},
   "outputs": [
    {
     "data": {
      "text/plain": [
       "0    1\n",
       "dtype: int64"
      ]
     },
     "execution_count": 18,
     "metadata": {},
     "output_type": "execute_result"
    }
   ],
   "source": [
    "df.groupby(['ip_address_int', 'click_timestamp']).size().mode()"
   ]
  },
  {
   "cell_type": "code",
   "execution_count": 19,
   "id": "48c3849e",
   "metadata": {},
   "outputs": [
    {
     "data": {
      "text/plain": [
       "0    1\n",
       "dtype: int64"
      ]
     },
     "execution_count": 19,
     "metadata": {},
     "output_type": "execute_result"
    }
   ],
   "source": [
    "df.groupby(['user_id', 'click_timestamp']).size().mode()"
   ]
  },
  {
   "cell_type": "code",
   "execution_count": 20,
   "id": "35441cbe",
   "metadata": {},
   "outputs": [
    {
     "data": {
      "text/plain": [
       "0    1\n",
       "dtype: int64"
      ]
     },
     "execution_count": 20,
     "metadata": {},
     "output_type": "execute_result"
    }
   ],
   "source": [
    "df.groupby(['fingerprint', 'click_timestamp']).size().mode()"
   ]
  },
  {
   "cell_type": "code",
   "execution_count": 21,
   "id": "29a12900",
   "metadata": {},
   "outputs": [],
   "source": [
    "sources = ['ip_address_int', 'user_id', 'fingerprint']\n",
    "for s in sources:\n",
    "    source_click_timestampt = df.groupby([s, 'click_timestamp']).size().to_dict()\n",
    "    source_click_timestamp = [[k[0], k[1]] for k, v in source_click_timestampt.items() if v > 1]\n",
    "    df.loc[df[s].isin(source_click_timestamp[0]) & df.click_timestamp.isin(source_click_timestamp[1]), 'flag'] = True"
   ]
  },
  {
   "cell_type": "code",
   "execution_count": 22,
   "id": "8c9df35d",
   "metadata": {},
   "outputs": [
    {
     "name": "stdout",
     "output_type": "stream",
     "text": [
      "42.63%\n"
     ]
    }
   ],
   "source": [
    "# процент аномальных данных в датасете\n",
    "# остается надеяться, что это не реальные данные, а то получается страшно много фрода (страшно интересно)\n",
    "print(f\"{round(df.groupby(['flag']).size()[True]/ df.shape[0] * 100, 2)}%\")"
   ]
  }
 ],
 "metadata": {
  "kernelspec": {
   "display_name": "Python 3 (ipykernel)",
   "language": "python",
   "name": "python3"
  },
  "language_info": {
   "codemirror_mode": {
    "name": "ipython",
    "version": 3
   },
   "file_extension": ".py",
   "mimetype": "text/x-python",
   "name": "python",
   "nbconvert_exporter": "python",
   "pygments_lexer": "ipython3",
   "version": "3.9.6"
  }
 },
 "nbformat": 4,
 "nbformat_minor": 5
}
